{
 "cells": [
  {
   "cell_type": "markdown",
   "id": "cb222cf4",
   "metadata": {},
   "source": [
    "# Set-up Environment"
   ]
  },
  {
   "cell_type": "markdown",
   "id": "46dcbe3d",
   "metadata": {},
   "source": [
    "## Initalize variables"
   ]
  },
  {
   "cell_type": "code",
   "execution_count": 1,
   "id": "8b7d99b3",
   "metadata": {},
   "outputs": [
    {
     "data": {
      "text/plain": [
       "1"
      ]
     },
     "execution_count": 1,
     "metadata": {},
     "output_type": "execute_result"
    }
   ],
   "source": [
    "import os\n",
    "os.environ['TF_CPP_MIN_LOG_LEVEL'] = '3' # Use this before loading tensorflow\n",
    "import random\n",
    "import numpy as np\n",
    "import tensorflow as tf\n",
    "\n",
    "def random_seed():\n",
    "    return os.urandom(42)\n",
    "\n",
    "def reset_seeds(random_state = 42):\n",
    "    try:\n",
    "        tf.keras.utils.set_random_seed(random_state)\n",
    "        return 0\n",
    "    except: \n",
    "        random.seed(random_state)\n",
    "        np.random.seed(random_state)\n",
    "        tf.random.set_seed(random_state) # Tensorflow 2.9\n",
    "    try:\n",
    "        from tensorflow import set_random_seed # Tensorflow 1.x\n",
    "        set_random_seed(random_state)\n",
    "        return 2\n",
    "    except:\n",
    "        pass\n",
    "    return 1\n",
    "\n",
    "max_gpus = len(tf.config.list_physical_devices('GPU'))\n",
    "#print(\"Num GPUs Available: \", len(tf.config.list_physical_devices('GPU')))\n",
    "\"\"\"\n",
    "Reset all random seeds\n",
    "\"\"\"               \n",
    "reset_seeds(123)"
   ]
  },
  {
   "cell_type": "code",
   "execution_count": 13,
   "id": "d7bd4712",
   "metadata": {},
   "outputs": [
    {
     "name": "stdout",
     "output_type": "stream",
     "text": [
      "[Info] *** Configuration ***\n",
      "File     :  brady_ai_stack.grd\n",
      "Bands    :  7\n",
      "Samples  :  100000\n",
      "Kernel   :  19  pixels per side\n",
      "Channels :  7\n",
      "CNN size : ( 3 x 3 ) maximum kernel size\n",
      "Patience :  5\n",
      "GPUs max :  1\n"
     ]
    }
   ],
   "source": [
    "#### Basic set-up\n",
    "tif_file_name ='brady_ai_stack.grd'\n",
    "image_channels = 7 # Was 9\n",
    "#tif_file_name ='/store03/thesis/git/doe-som/brady_som_output.grd'\n",
    "#image_channels = 3\n",
    "\n",
    "num_samples = 100000\n",
    "kernel_pixels = 19\n",
    "my_patience = 5\n",
    "kernel_internal = 3\n",
    "\n",
    "print('[Info] *** Configuration ***')\n",
    "print('File     : ', tif_file_name)\n",
    "print('Bands    : ', image_channels)\n",
    "print('Samples  : ', num_samples)\n",
    "print('Kernel   : ', kernel_pixels, ' pixels per side')\n",
    "print('Channels : ', image_channels)\n",
    "print('CNN size : (', kernel_internal, 'x', kernel_internal, ') maximum kernel size')\n",
    "print('Patience : ', my_patience)\n",
    "print('GPUs max : ', max_gpus)"
   ]
  },
  {
   "cell_type": "markdown",
   "id": "70f02be2",
   "metadata": {},
   "source": [
    "## Load libraries and finish set-up"
   ]
  },
  {
   "cell_type": "code",
   "execution_count": 14,
   "id": "3fc6074f",
   "metadata": {},
   "outputs": [
    {
     "name": "stdout",
     "output_type": "stream",
     "text": [
      "[Info] *** Configuration ***\n",
      "Classes    :  2\n",
      "Epochs     :  150\n",
      "Batch size :  200\n"
     ]
    }
   ],
   "source": [
    "num_epochs = 150\n",
    "batch_size = 200\n",
    "\n",
    "BS=batch_size\n",
    "\n",
    "NUM_CLASSES = 2         # Default number of classes (\"Geothermal\", \"Non-Geothermal\")\n",
    "IMAGE_DIMS = (kernel_pixels, kernel_pixels, image_channels)\n",
    "BATCH_DIMS = (None, kernel_pixels, kernel_pixels, image_channels)\n",
    "KERNEL_PIXELS = kernel_pixels\n",
    "CHANNELS = image_channels\n",
    "\n",
    "num_classes = NUM_CLASSES\n",
    "augment_data = True\n",
    "\n",
    "# Load libraries\n",
    "# import gc\n",
    "# from matplotlib import pyplot\n",
    "\n",
    "print('[Info] *** Configuration ***')\n",
    "print('Classes    : ', num_classes)\n",
    "print('Epochs     : ', num_epochs)\n",
    "print('Batch size : ', batch_size)"
   ]
  },
  {
   "cell_type": "markdown",
   "id": "9bc2735d",
   "metadata": {},
   "source": [
    "## Create image manipulation classes"
   ]
  },
  {
   "cell_type": "code",
   "execution_count": 15,
   "id": "622b04d2",
   "metadata": {},
   "outputs": [],
   "source": [
    "# Helper class, generates data for keras\n",
    "from jigsaw.jigsaw import DataGenerator\n",
    "from jigsaw.rasterspcv import Kernel3D, GeoTiffSlicer"
   ]
  },
  {
   "cell_type": "markdown",
   "id": "c862d9e0",
   "metadata": {},
   "source": [
    "## Create cross-validation class from rasters"
   ]
  },
  {
   "cell_type": "code",
   "execution_count": 16,
   "id": "9a41c5d5",
   "metadata": {},
   "outputs": [],
   "source": [
    "from jigsaw.rasterspcv import RasterSpCV"
   ]
  },
  {
   "cell_type": "markdown",
   "id": "d60979d2",
   "metadata": {},
   "source": [
    "### [Optional] Test class RasterSpCV"
   ]
  },
  {
   "cell_type": "code",
   "execution_count": null,
   "id": "3b62c118",
   "metadata": {},
   "outputs": [],
   "source": [
    "rSpCV = RasterSpCV(tif_file_name, kernel_pixels, num_channels = 7, sample = 10, verbose=1)"
   ]
  },
  {
   "cell_type": "code",
   "execution_count": null,
   "id": "cdf2c557",
   "metadata": {
    "scrolled": true
   },
   "outputs": [],
   "source": [
    "cv = rSpCV.SpatialCV()\n",
    "rSpCV.slicer.land_matrix.shape"
   ]
  },
  {
   "cell_type": "code",
   "execution_count": null,
   "id": "a3fdca2a",
   "metadata": {
    "scrolled": true
   },
   "outputs": [],
   "source": [
    "for tr, ts in cv:\n",
    "    print(\".\")\n",
    "    pass\n",
    "print(ts)"
   ]
  },
  {
   "cell_type": "code",
   "execution_count": null,
   "id": "ed449299",
   "metadata": {},
   "outputs": [],
   "source": [
    "k=(np.flatnonzero(rSpCV.folding.Fold==2))\n",
    "random.shuffle(k)\n",
    "k[:min(10,len(k))]"
   ]
  },
  {
   "cell_type": "markdown",
   "id": "3feb9568",
   "metadata": {},
   "source": [
    "## Functions to create jigsaw"
   ]
  },
  {
   "cell_type": "code",
   "execution_count": 17,
   "id": "c6f65407",
   "metadata": {},
   "outputs": [],
   "source": [
    "# from jigsaw import jigsaw_m, jigsaw_m_end\n"
   ]
  },
  {
   "cell_type": "code",
   "execution_count": 18,
   "id": "888055f3",
   "metadata": {},
   "outputs": [],
   "source": [
    "from jigsaw import build_jigsaw\n",
    "\n",
    "# Builds model"
   ]
  },
  {
   "cell_type": "markdown",
   "id": "f2925e8f",
   "metadata": {},
   "source": [
    "### [Optional] Test Jigsaw model creation"
   ]
  },
  {
   "cell_type": "code",
   "execution_count": null,
   "id": "2c286706",
   "metadata": {
    "scrolled": true
   },
   "outputs": [],
   "source": [
    "from tensorflow.keras.utils import plot_model\n",
    "import gc\n",
    "\n",
    "#m = tf.keras.models.clone_model(model3)\n",
    "m = tf.keras.models.clone_model(build_jigsaw( internal_size=3, num_classes=2, \n",
    "                                             image_dim = (kernel_pixels, 19, kernel_pixels), verbose=1))\n",
    "\n",
    "gc.collect()\n",
    "# Plots architecture\n",
    "m_plt = plot_model(m) # , show_shapes=True)\n",
    "m.summary()\n",
    "m_plt"
   ]
  },
  {
   "cell_type": "code",
   "execution_count": null,
   "id": "8c5a08e5",
   "metadata": {},
   "outputs": [],
   "source": [
    "from IPython.display import display\n",
    "m_plt = plot_model(m)\n",
    "display(m_plt)"
   ]
  },
  {
   "cell_type": "markdown",
   "id": "15c9a39a",
   "metadata": {},
   "source": [
    "# [Optional] Test Cross Validation"
   ]
  },
  {
   "cell_type": "code",
   "execution_count": null,
   "id": "bc4f06b7",
   "metadata": {},
   "outputs": [],
   "source": [
    "rSpCV = RasterSpCV(tif_file_name, kernel_pixels, num_channels = image_channels, sample = 100000, verbose=0, augment = True)\n"
   ]
  },
  {
   "cell_type": "code",
   "execution_count": null,
   "id": "5024df85",
   "metadata": {},
   "outputs": [],
   "source": [
    "from tensorflow.keras.utils import to_categorical\n",
    "cv = rSpCV.SpatialCV()\n",
    "X = rSpCV.X()\n",
    "y = rSpCV.y()\n",
    "y_binary = to_categorical(y)\n",
    "\n",
    "from matplotlib import pyplot\n",
    "f, axarr = pyplot.subplots(1,2)\n",
    "axarr[0].imshow(X[1][:,:,1])\n",
    "axarr[1].imshow(X[1][:,:,1])\n",
    "pyplot.show()"
   ]
  },
  {
   "cell_type": "code",
   "execution_count": null,
   "id": "5bbe443d",
   "metadata": {},
   "outputs": [],
   "source": [
    "f, axarr = pyplot.subplots(1,2)\n",
    "axarr[0].imshow(X[1][:,:,1])\n",
    "axarr[1].imshow(X[1][:,:,1])\n",
    "pyplot.show()"
   ]
  },
  {
   "cell_type": "code",
   "execution_count": null,
   "id": "f3311877",
   "metadata": {},
   "outputs": [],
   "source": [
    "reset_seeds()\n",
    "cv = rSpCV.SpatialCV()\n",
    "X = rSpCV.X()\n",
    "y = rSpCV.y()\n",
    "y_binary = to_categorical(y)\n",
    "\n",
    "from sklearn.metrics import make_scorer\n",
    "from sklearn.metrics import accuracy_score\n",
    "from sklearn.metrics import balanced_accuracy_score, f1_score\n",
    "from keras.wrappers.scikit_learn import KerasClassifier\n",
    "def BAcc(y_true, y_pred):\n",
    "    #y_pred = np.ravel(y_true[:,1])\n",
    "    y_true = np.ravel(y_true[:,1])\n",
    "    #y_pred = np.argmax(y_pred, axis=-1)\n",
    "    assert(len(y_true)==len(y_pred))\n",
    "    b_acc = balanced_accuracy_score(y_true, y_pred)\n",
    "    acc   = accuracy_score(y_true, y_pred)\n",
    "    f1    = f1_score(y_true, y_pred)\n",
    "    print(\"Acc  :\", acc)\n",
    "    print(\"Bacc :\", b_acc)\n",
    "    print(\"F-1  :\", f1)\n",
    "    return b_acc\n",
    "    print(\"Acc:\", np.count_nonzero(y_true==y_pred)/len(y_true))\n",
    "    #print('y_true:', y_true)\n",
    "    #print('y_pred:', y_pred)\n",
    "    l = []\n",
    "    for i in np.unique(y_true):\n",
    "        a = np.ravel(np.asarray(y_true==(i)).nonzero())\n",
    "        #print(\"Index:\", a)\n",
    "        a_score = np.count_nonzero(y_true[a]==y_pred[a])/len(a)\n",
    "        l.append(a_score)\n",
    "    b_acc = np.mean(l)\n",
    "    #print(\"L   :\",l)\n",
    "    print(\"Bacc: \", b_acc)\n",
    "    return b_acc\n",
    "\n",
    "balanced_accuracy = make_scorer(BAcc)\n",
    "\n",
    "m = KerasClassifier(build_jigsaw, internal_size = kernel_internal,\n",
    "                    num_classes = num_classes,\n",
    "                    image_dim = IMAGE_DIMS,\n",
    "                    batch_size = 10, epochs = 10)"
   ]
  },
  {
   "cell_type": "code",
   "execution_count": null,
   "id": "6a51d0ab",
   "metadata": {},
   "outputs": [],
   "source": [
    "from sklearn.model_selection import cross_val_score\n",
    "scores = cross_val_score(m, X, y_binary, cv=cv, scoring = balanced_accuracy)"
   ]
  },
  {
   "cell_type": "code",
   "execution_count": null,
   "id": "7e539307",
   "metadata": {},
   "outputs": [],
   "source": [
    "a = np.array([1, 2, 3, 4, 5, 6])\n",
    "a=np.reshape(a, (3,2))\n",
    "print(a)\n",
    "b=a[:,1].reshape(-1)\n",
    "a=a[:,0].reshape(-1)"
   ]
  },
  {
   "cell_type": "code",
   "execution_count": null,
   "id": "ab82331c",
   "metadata": {},
   "outputs": [],
   "source": [
    "np.ravel(np.asarray(a==1).nonzero())"
   ]
  },
  {
   "cell_type": "code",
   "execution_count": null,
   "id": "c517f9bb",
   "metadata": {},
   "outputs": [],
   "source": [
    "y_true = np.asarray([1,1,1,0,1,0],)\n",
    "#y_true = np.asarray([0,1,0,0,1,1])\n",
    "y_pred = [[0.9, 0.1],[0.1, 0.9],[0.7, 0.3],[0.8, 0.2],[0.15,0.85],[0.3,0.7]]\n",
    "y_pred = np.argmax(y_pred)\n",
    "y_pred = np.asarray([0,1,0,0,1,1])\n",
    "print(y_true.shape)\n",
    "print(y_pred.shape)\n",
    "\n",
    "print(\"Same length:\", len(y_true)==len(y_pred))\n",
    "l = []\n",
    "for i in np.unique(y_true):\n",
    "    a = np.ravel(np.asarray(y_true==i).nonzero())\n",
    "    a_score = np.count_nonzero(y_true[a]==y_pred[a])/len(a)\n",
    "    l.append(a_score)\n",
    "print(l)\n",
    "    \n",
    "np.mean(l)"
   ]
  },
  {
   "cell_type": "markdown",
   "id": "572d9611",
   "metadata": {
    "scrolled": true
   },
   "source": [
    "scores = cross_val_score(m, X, y_binary, cv=cv)"
   ]
  },
  {
   "cell_type": "code",
   "execution_count": null,
   "id": "4a5fa224",
   "metadata": {
    "scrolled": true
   },
   "outputs": [],
   "source": [
    "scores, np.mean(scores)"
   ]
  },
  {
   "cell_type": "code",
   "execution_count": null,
   "id": "b60ba1be",
   "metadata": {},
   "outputs": [],
   "source": [
    "# With 3x3 kernels\n",
    "# Epochs A scores\n",
    "#     10 F (array([0.69809216, 0.61910695, 0.94752526, 0.79340768, 0.84017217]), 0.7796608448028565)\n",
    "#     10 T (array([0.96171987, 0.67508829, 0.72336709, 0.62722361, 0.97688884]), 0.792857539653778)\n",
    "#     50 T (array([0.97121   , 0.98631495, 0.75165534, 0.60664952, 0.63382876]), 0.7899317145347595)\n",
    "\n",
    "result_1 = []"
   ]
  },
  {
   "cell_type": "code",
   "execution_count": null,
   "id": "393bf274",
   "metadata": {},
   "outputs": [],
   "source": []
  },
  {
   "cell_type": "markdown",
   "id": "dc7aa7ba",
   "metadata": {},
   "source": [
    "# GridSearch Parameter Crossvalidation"
   ]
  },
  {
   "cell_type": "code",
   "execution_count": 19,
   "id": "13aad52f",
   "metadata": {},
   "outputs": [],
   "source": [
    "from sklearn.model_selection import GridSearchCV\n",
    "from tensorflow.keras.utils import to_categorical\n",
    "from sklearn.metrics import make_scorer\n",
    "from sklearn.metrics import accuracy_score\n",
    "from sklearn.metrics import balanced_accuracy_score, f1_score\n",
    "import itertools\n",
    "\n",
    "def BAcc(y_true, y_pred):\n",
    "    y_true = np.ravel(y_true[:,1])\n",
    "    assert(len(y_true)==len(y_pred))\n",
    "    b_acc = balanced_accuracy_score(y_true, y_pred)\n",
    "    acc   = accuracy_score(y_true, y_pred)\n",
    "    f1    = f1_score(y_true, y_pred)\n",
    "    print(\"Acc  :\", acc)\n",
    "    print(\"Bacc :\", b_acc)\n",
    "    print(\"F-1  :\", f1)\n",
    "    return b_acc\n",
    "    print(\"Acc:\", np.count_nonzero(y_true==y_pred)/len(y_true))\n",
    "    l = []\n",
    "    for i in np.unique(y_true):\n",
    "        a = np.ravel(np.asarray(y_true==(i)).nonzero())\n",
    "        a_score = np.count_nonzero(y_true[a]==y_pred[a])/len(a)\n",
    "        l.append(a_score)\n",
    "    b_acc = np.mean(l)\n",
    "    #print(\"L   :\",l)\n",
    "    print(\"Bacc: \", b_acc)\n",
    "    return b_acc\n",
    "\n",
    "def Acc(y_true, y_pred):\n",
    "    y_true = np.ravel(y_true[:,1])\n",
    "    assert(len(y_true)==len(y_pred))\n",
    "    acc   = accuracy_score(y_true, y_pred)\n",
    "    return acc\n",
    "\n",
    "def F_beta_1(y_true, y_pred):\n",
    "    y_true = np.ravel(y_true[:,1])\n",
    "    assert(len(y_true)==len(y_pred))\n",
    "    f1   = f1_score(y_true, y_pred)\n",
    "    return f1\n",
    "\n",
    "balanced_accuracy = make_scorer(BAcc)\n",
    "accuracy = make_scorer(Acc)\n",
    "f1 = make_scorer(F_beta_1)\n",
    "\n",
    "\n",
    "\n",
    "scoring = {\"AUC\": \"roc_auc\", \"Accuracy\": accuracy, \n",
    "           \"Balanced accuracy\": balanced_accuracy, \"F-1\": f1}"
   ]
  },
  {
   "cell_type": "code",
   "execution_count": 20,
   "id": "a76d2166",
   "metadata": {},
   "outputs": [
    {
     "name": "stdout",
     "output_type": "stream",
     "text": [
      "Splitting input layer data with MiniBatchKMeans\n",
      "Counts: [24527 46840 54560 22047 52026]\n",
      "Labels: # 200000\n",
      "Partitions: [0 1 2 3 4]\n",
      "Shape of new tiff: (7, 1447, 912)\n"
     ]
    }
   ],
   "source": [
    "rSpCV = RasterSpCV(tif_file_name, kernel_pixels, num_channels = image_channels, \n",
    "                   sample = num_samples, verbose = 1,  augment = True)"
   ]
  },
  {
   "cell_type": "code",
   "execution_count": null,
   "id": "48e8ea85",
   "metadata": {
    "scrolled": true
   },
   "outputs": [
    {
     "name": "stdout",
     "output_type": "stream",
     "text": [
      "*** Building Jigsaw with up to 3x3 kernels\n",
      "Epoch 1/10\n",
      "17548/17548 [==============================] - 109s 6ms/step - loss: 1.4876 - accuracy: 0.7008\n",
      "Epoch 2/10\n",
      "17548/17548 [==============================] - 106s 6ms/step - loss: 1.3610 - accuracy: 0.7424\n",
      "Epoch 3/10\n",
      "17548/17548 [==============================] - 108s 6ms/step - loss: 1.2882 - accuracy: 0.7475\n",
      "Epoch 4/10\n",
      "17548/17548 [==============================] - 107s 6ms/step - loss: 1.2259 - accuracy: 0.7545\n",
      "Epoch 5/10\n",
      "17548/17548 [==============================] - 107s 6ms/step - loss: 1.1691 - accuracy: 0.7631\n",
      "Epoch 6/10\n",
      "17548/17548 [==============================] - 106s 6ms/step - loss: 1.1159 - accuracy: 0.7739\n",
      "Epoch 7/10\n",
      "17548/17548 [==============================] - 107s 6ms/step - loss: 1.0671 - accuracy: 0.7865\n",
      "Epoch 8/10\n",
      "10894/17548 [=================>............] - ETA: 40s - loss: 1.0287 - accuracy: 0.7970"
     ]
    }
   ],
   "source": [
    "from keras.wrappers.scikit_learn import KerasClassifier\n",
    "\n",
    "cv = rSpCV.RepeatedSpCV(n_repeats=1)\n",
    "X = rSpCV.X()\n",
    "y = rSpCV.y()\n",
    "#tr, ts = next(cv)\n",
    "#X2=X[tr]\n",
    "#y=y[tr]\n",
    "X2=X[np.arange(len(X))]\n",
    "y_binary = to_categorical(y)\n",
    "\n",
    "m = KerasClassifier(build_jigsaw,\n",
    "                    #internal_size = kernel_internal,\n",
    "                    num_classes = num_classes,\n",
    "                    image_dim = IMAGE_DIMS,\n",
    "                    batch_size = 10, epochs = 10)\n",
    "\n",
    "parameters = {'internal_size':[3, 5, 7, 9, 11, 13]}\n",
    "\n",
    "clf = GridSearchCV(m, parameters, \n",
    "                   cv=cv,\n",
    "                   refit = \"Balanced accuracy\",\n",
    "                   return_train_score=True,\n",
    "                   scoring = scoring\n",
    "                  )\n",
    "\n",
    "clf.fit(X2, y_binary)\n"
   ]
  },
  {
   "cell_type": "code",
   "execution_count": null,
   "id": "25803acf",
   "metadata": {},
   "outputs": [],
   "source": []
  },
  {
   "cell_type": "code",
   "execution_count": null,
   "id": "93598d28",
   "metadata": {
    "scrolled": false
   },
   "outputs": [],
   "source": []
  },
  {
   "cell_type": "code",
   "execution_count": null,
   "id": "c6e73140",
   "metadata": {},
   "outputs": [],
   "source": [
    "# Show all available metrics for GridSearchCV\n",
    "sorted(clf.cv_results_.keys())"
   ]
  },
  {
   "cell_type": "code",
   "execution_count": null,
   "id": "57f97ce2",
   "metadata": {},
   "outputs": [],
   "source": []
  },
  {
   "cell_type": "code",
   "execution_count": null,
   "id": "e6f0a1ff",
   "metadata": {},
   "outputs": [],
   "source": [
    "results = clf.cv_results_\n",
    "\n",
    "from matplotlib import pyplot as plt\n",
    "#scoring = {\"score\": \"accuracy\"}\n",
    "\n",
    "plt.figure(figsize=(13, 13))\n",
    "plt.title(\"GridSearchCV evaluating using multiple scorers simultaneously\", fontsize=16)\n",
    "\n",
    "plt.xlabel(\"param_internal_size\")\n",
    "plt.ylabel(\"Score\")\n",
    "\n",
    "ax = plt.gca()\n",
    "#ax.set_xlim(0, 402)\n",
    "#ax.set_ylim(0.8, 0.9)\n",
    "\n",
    "# Get the regular numpy array from the MaskedArray\n",
    "X_axis = np.array(results[\"param_internal_size\"].data, dtype=float)\n",
    "\n",
    "for scorer, color in zip(sorted(scoring), [\"g\", \"k\", \"b\", \"r\"]):\n",
    "#for scorer, color in zip([\"score\"], [\"g\"]):\n",
    "    for sample, style in ((\"train\", \"--\"), (\"test\", \"-\")):\n",
    "        #scorer = \"score\"\n",
    "        #color = \"g\"\n",
    "        #sample = \"test\"\n",
    "        #style = \"-\"\n",
    "        sample_score_mean = results[\"mean_%s_%s\" % (sample, scorer)]\n",
    "        sample_score_std = results[\"std_%s_%s\" % (sample, scorer)]\n",
    "        ax.fill_between(\n",
    "            X_axis,\n",
    "            sample_score_mean - sample_score_std,\n",
    "            sample_score_mean + sample_score_std,\n",
    "            alpha=0.1 if sample == \"test\" else 0,\n",
    "            color=color,\n",
    "        )\n",
    "        ax.plot(\n",
    "            X_axis,\n",
    "            sample_score_mean,\n",
    "            style,\n",
    "            color=color,\n",
    "            alpha=1 if sample == \"test\" else 0.7,\n",
    "            label=\"%s (%s)\" % (scorer, sample),\n",
    "        )\n",
    "    best_index = np.nonzero(results[\"rank_test_%s\" % scorer] == 1)[0][0]\n",
    "    best_score = results[\"mean_test_%s\" % scorer][best_index]\n",
    "    # Plot a dotted vertical line at the best score for that scorer marked by x\n",
    "    ax.plot(\n",
    "        [\n",
    "            X_axis[best_index],\n",
    "        ]\n",
    "        * 2,\n",
    "        [0, best_score],\n",
    "        linestyle=\"-.\",\n",
    "        color=color,\n",
    "        marker=\"x\",\n",
    "        markeredgewidth=3,\n",
    "        ms=8,\n",
    "    )\n",
    "\n",
    "    # Annotate the best score for that scorer\n",
    "    ax.annotate(\"%0.2f\" % best_score, (X_axis[best_index], best_score + 0.005))\n",
    "\n",
    "plt.legend(loc=\"best\")\n",
    "plt.grid(False)\n",
    "plt.show()"
   ]
  },
  {
   "cell_type": "code",
   "execution_count": null,
   "id": "24fa7a0e",
   "metadata": {},
   "outputs": [],
   "source": [
    "import pickle\n",
    "\n",
    "# Open a file and use dump()\n",
    "with open('./cv_results/Brady_ai.19x19.3-13.100k.balanced.pickle', 'wb') as file:\n",
    "    # A new file will be created\n",
    "    pickle.dump(results, file)\n",
    "results#['mean_test_score']"
   ]
  },
  {
   "cell_type": "markdown",
   "id": "86fcb460",
   "metadata": {},
   "source": [
    "## Show SpCV geographic locations"
   ]
  },
  {
   "cell_type": "code",
   "execution_count": null,
   "id": "3cef2353",
   "metadata": {},
   "outputs": [],
   "source": [
    "from matplotlib import pyplot as plt\n",
    "f, axarr = plt.subplots(1,2)\n",
    "rSpCV.folding.plot('Fold', ax=axarr[0], markersize=3)\n",
    "rSpCV.folding.plot('z', ax=axarr[1], markersize=3)\n",
    "plt.show()\n",
    "\n",
    "# Pull next cross-validation training and test sets\n",
    "tr, ts = next(cv)\n",
    "rSpCV.folding.iloc[tr].plot('z') # Plot training set using geographical coordinates"
   ]
  },
  {
   "cell_type": "markdown",
   "id": "c510167a",
   "metadata": {},
   "source": [
    "### [Optional] Testing multidimensional image rotation"
   ]
  },
  {
   "cell_type": "code",
   "execution_count": null,
   "id": "c8429eac",
   "metadata": {},
   "outputs": [],
   "source": [
    "from skimage.transform import rotate\n",
    "my_img = X[2]\n",
    "print(my_img.shape)\n",
    "pyplot.imshow(my_img[:,:, 1])\n",
    "pyplot.show()\n",
    "f, axarr = pyplot.subplots(1,2)\n",
    "axarr[0].imshow(rotate(my_img, angle=15*np.random.randint(6), center=(2,2), mode='symmetric')[:,:, 1])\n",
    "axarr[1].imshow(rotate(my_img, angle=15*np.random.randint(6), center=(2,2), mode='symmetric')[:,:, 1])\n",
    "pyplot.show()\n",
    "my_img.shape\n",
    "f, axarr = pyplot.subplots(1,2)\n",
    "axarr[0].imshow(rotate(my_img, angle=15*np.random.randint(6), mode='symmetric')[:,:, 1])\n",
    "axarr[1].imshow(rotate(my_img, angle=15*np.random.randint(6), mode='symmetric')[:,:, 1])\n",
    "pyplot.show()\n",
    "my_img.shape"
   ]
  },
  {
   "cell_type": "code",
   "execution_count": null,
   "id": "5d232870",
   "metadata": {},
   "outputs": [],
   "source": [
    "import gc\n",
    "gc.collect()"
   ]
  },
  {
   "cell_type": "code",
   "execution_count": null,
   "id": "5f96bbb4",
   "metadata": {},
   "outputs": [],
   "source": [
    "import keras.backend as K\n",
    "K.clear_session()"
   ]
  },
  {
   "cell_type": "code",
   "execution_count": null,
   "id": "8847da4a",
   "metadata": {},
   "outputs": [],
   "source": [
    "from numba import cuda\n",
    "cuda.select_device(0)\n",
    "cuda.close()"
   ]
  },
  {
   "cell_type": "code",
   "execution_count": null,
   "id": "aeca2172",
   "metadata": {},
   "outputs": [],
   "source": [
    "!python --version\n",
    "!conda env list"
   ]
  },
  {
   "cell_type": "code",
   "execution_count": null,
   "id": "4f4910fa",
   "metadata": {},
   "outputs": [],
   "source": []
  },
  {
   "cell_type": "code",
   "execution_count": null,
   "id": "32cb9059",
   "metadata": {},
   "outputs": [],
   "source": [
    "results#['mean_test_score']"
   ]
  },
  {
   "cell_type": "code",
   "execution_count": null,
   "id": "bb40a420",
   "metadata": {},
   "outputs": [],
   "source": [
    "import tensorflow as tf\n",
    "\n",
    "gpus = tf.config.list_physical_devices('GPU')\n",
    "for gpu in gpus:\n",
    "    print(\"Name:\", gpu.name, \"  Type:\", gpu.device_type)"
   ]
  },
  {
   "cell_type": "code",
   "execution_count": null,
   "id": "55881b98",
   "metadata": {},
   "outputs": [],
   "source": [
    "len(gpus)"
   ]
  }
 ],
 "metadata": {
  "kernelspec": {
   "display_name": "Python 3 (ipykernel)",
   "language": "python",
   "name": "python3"
  },
  "language_info": {
   "codemirror_mode": {
    "name": "ipython",
    "version": 3
   },
   "file_extension": ".py",
   "mimetype": "text/x-python",
   "name": "python",
   "nbconvert_exporter": "python",
   "pygments_lexer": "ipython3",
   "version": "3.8.13"
  }
 },
 "nbformat": 4,
 "nbformat_minor": 5
}
