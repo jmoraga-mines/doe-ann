{
 "cells": [
  {
   "cell_type": "markdown",
   "id": "a2840d22",
   "metadata": {},
   "source": [
    "# Geopandas test"
   ]
  },
  {
   "cell_type": "code",
   "execution_count": 5,
   "id": "cde3289f",
   "metadata": {},
   "outputs": [],
   "source": [
    "import geopandas as gpd\n",
    "import pandas as pd\n",
    "import rasterio as rio\n",
    "import numpy as np\n",
    "\n",
    "base_image = rio.open('brady_ai_stack.grd')\n",
    "base_image = rio.open('/store03/thesis/git/doe-som/brady_som_output.grd')\n",
    "c, h, w = base_image.count, base_image.height, base_image.width\n"
   ]
  },
  {
   "cell_type": "code",
   "execution_count": 6,
   "id": "f6742b40",
   "metadata": {},
   "outputs": [],
   "source": [
    "xmin, ymax = np.around(base_image.xy(0.00, 0.00), 8)  # millimeter accuracy for longitude\n",
    "xmax, ymin = np.around(base_image.xy(h-1, w-1), 8)  # millimeter accuracy\n",
    "tif_x = np.linspace(xmin, xmax, w)\n",
    "tif_y = np.linspace(ymax, ymin, h) # coordinates are top to bottom\n",
    "tif_col = np.arange(w)\n",
    "tif_row = np.arange(h)#[::-1] # This will match numpy array location\n",
    "xs, ys = np.meshgrid(tif_x, tif_y)\n",
    "cs, rs = np.meshgrid(tif_col, tif_row)\n",
    "\n",
    "zs = base_image.read(1) # First band contains categories\n",
    "\n",
    "tif_mask = base_image.read_masks(1) > 0"
   ]
  },
  {
   "cell_type": "code",
   "execution_count": null,
   "id": "5b2059e4",
   "metadata": {},
   "outputs": [],
   "source": [
    "\n",
    "# Just keep valid points (non-NaN)\n",
    "xs, ys = xs[tif_mask], ys[tif_mask]\n",
    "cs, rs, zs = cs[tif_mask], rs[tif_mask], zs[tif_mask]\n",
    "data = {'Column': pd.Series(cs.ravel()),\n",
    "        'Row': pd.Series(rs.ravel()),\n",
    "        'x': pd.Series(xs.ravel()),\n",
    "        'y': pd.Series(ys.ravel()),\n",
    "        'z': pd.Series(zs.ravel())}\n",
    "df = pd.DataFrame(data=data)\n",
    "df = df.dropna()\n",
    "df = df.sample(10)"
   ]
  },
  {
   "cell_type": "code",
   "execution_count": null,
   "id": "5ac5439e",
   "metadata": {},
   "outputs": [],
   "source": [
    "\n",
    "\n",
    "geopandas.GeoSeries.from_xy"
   ]
  }
 ],
 "metadata": {
  "kernelspec": {
   "display_name": "Python 3 (ipykernel)",
   "language": "python",
   "name": "python3"
  },
  "language_info": {
   "codemirror_mode": {
    "name": "ipython",
    "version": 3
   },
   "file_extension": ".py",
   "mimetype": "text/x-python",
   "name": "python",
   "nbconvert_exporter": "python",
   "pygments_lexer": "ipython3",
   "version": "3.8.13"
  }
 },
 "nbformat": 4,
 "nbformat_minor": 5
}
